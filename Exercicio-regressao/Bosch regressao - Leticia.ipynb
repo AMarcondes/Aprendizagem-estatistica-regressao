{
 "cells": [
  {
   "cell_type": "code",
   "execution_count": 4,
   "metadata": {},
   "outputs": [],
   "source": [
    "import pandas as pd\n",
    "import numpy as np\n",
    "import matplotlib.pyplot as plt #use matplotlib para python > 3 e conda\n"
   ]
  },
  {
   "cell_type": "code",
   "execution_count": 5,
   "metadata": {},
   "outputs": [],
   "source": [
    "caminho = \"Datasets/bosch/\"\n",
    "#se o inicializar o conda+jupyter pelo terminal:  colocar caminho = \"\" \n",
    "arquivo =\"ToolDataSheetVsNQuebras.csv\" #<- arquivo a ser utilizado"
   ]
  },
  {
   "cell_type": "markdown",
   "metadata": {},
   "source": [
    "### Utilizando a limpeza de dados sugerida pelo Felipe, com relacao ao separador e o angulo de incidencia na peça"
   ]
  },
  {
   "cell_type": "code",
   "execution_count": 6,
   "metadata": {},
   "outputs": [],
   "source": [
    "dadosB = None\n",
    "\n",
    "try:  # carrega dos dados , o separador é \";\" pois tem campos na coluna Supplier com \",\"\n",
    "    dadosB = pd.read_csv(caminho+arquivo, sep=\";\")\n",
    "except IOError as err:\n",
    "    print (err)"
   ]
  },
  {
   "cell_type": "code",
   "execution_count": 7,
   "metadata": {},
   "outputs": [],
   "source": [
    "dadosB = dadosB[dadosB.PropellerAngle <= 360] #remove os demais dados incorretos"
   ]
  },
  {
   "cell_type": "code",
   "execution_count": 63,
   "metadata": {},
   "outputs": [
    {
     "data": {
      "text/html": [
       "<div>\n",
       "<style scoped>\n",
       "    .dataframe tbody tr th:only-of-type {\n",
       "        vertical-align: middle;\n",
       "    }\n",
       "\n",
       "    .dataframe tbody tr th {\n",
       "        vertical-align: top;\n",
       "    }\n",
       "\n",
       "    .dataframe thead th {\n",
       "        text-align: right;\n",
       "    }\n",
       "</style>\n",
       "<table border=\"1\" class=\"dataframe\">\n",
       "  <thead>\n",
       "    <tr style=\"text-align: right;\">\n",
       "      <th></th>\n",
       "      <th>PartNumber</th>\n",
       "      <th>nQuebras</th>\n",
       "      <th>Family</th>\n",
       "      <th>Supplier</th>\n",
       "      <th>LargerDiameter</th>\n",
       "      <th>StemDiameter</th>\n",
       "      <th>TotalLength</th>\n",
       "      <th>ChannelLength</th>\n",
       "      <th>MaterialClass</th>\n",
       "      <th>PropellerAngle</th>\n",
       "      <th>Refrigeration</th>\n",
       "    </tr>\n",
       "  </thead>\n",
       "  <tbody>\n",
       "    <tr>\n",
       "      <td>0</td>\n",
       "      <td>4721700050</td>\n",
       "      <td>5</td>\n",
       "      <td>217-RH</td>\n",
       "      <td>3M TECHNICAL CERAMICS ZWEIGNIEDERLA</td>\n",
       "      <td>3.00</td>\n",
       "      <td>3.0</td>\n",
       "      <td>38.0</td>\n",
       "      <td>2.5</td>\n",
       "      <td>Desconhecido</td>\n",
       "      <td>0.0</td>\n",
       "      <td>0</td>\n",
       "    </tr>\n",
       "    <tr>\n",
       "      <td>1</td>\n",
       "      <td>4700101394</td>\n",
       "      <td>26</td>\n",
       "      <td>001-BA</td>\n",
       "      <td>ALLIANCE CNC</td>\n",
       "      <td>10.70</td>\n",
       "      <td>12.0</td>\n",
       "      <td>92.0</td>\n",
       "      <td>50.0</td>\n",
       "      <td>K30/40-UF</td>\n",
       "      <td>30.0</td>\n",
       "      <td>1</td>\n",
       "    </tr>\n",
       "    <tr>\n",
       "      <td>2</td>\n",
       "      <td>4700101395</td>\n",
       "      <td>28</td>\n",
       "      <td>001-BA</td>\n",
       "      <td>ALLIANCE CNC</td>\n",
       "      <td>9.70</td>\n",
       "      <td>10.0</td>\n",
       "      <td>92.0</td>\n",
       "      <td>50.0</td>\n",
       "      <td>K30/40-UF</td>\n",
       "      <td>30.0</td>\n",
       "      <td>1</td>\n",
       "    </tr>\n",
       "    <tr>\n",
       "      <td>3</td>\n",
       "      <td>4700500778</td>\n",
       "      <td>5</td>\n",
       "      <td>005-BG</td>\n",
       "      <td>ALLIANCE CNC</td>\n",
       "      <td>4.00</td>\n",
       "      <td>6.0</td>\n",
       "      <td>58.0</td>\n",
       "      <td>17.0</td>\n",
       "      <td>K30/40-UF</td>\n",
       "      <td>27.0</td>\n",
       "      <td>0</td>\n",
       "    </tr>\n",
       "    <tr>\n",
       "      <td>4</td>\n",
       "      <td>4700700155</td>\n",
       "      <td>9</td>\n",
       "      <td>007-BK</td>\n",
       "      <td>BLICKLE WERKZEUGE GMBH &amp; CO KG</td>\n",
       "      <td>6.00</td>\n",
       "      <td>6.0</td>\n",
       "      <td>66.0</td>\n",
       "      <td>25.0</td>\n",
       "      <td>K30/40-UF</td>\n",
       "      <td>15.0</td>\n",
       "      <td>1</td>\n",
       "    </tr>\n",
       "    <tr>\n",
       "      <td>...</td>\n",
       "      <td>...</td>\n",
       "      <td>...</td>\n",
       "      <td>...</td>\n",
       "      <td>...</td>\n",
       "      <td>...</td>\n",
       "      <td>...</td>\n",
       "      <td>...</td>\n",
       "      <td>...</td>\n",
       "      <td>...</td>\n",
       "      <td>...</td>\n",
       "      <td>...</td>\n",
       "    </tr>\n",
       "    <tr>\n",
       "      <td>215</td>\n",
       "      <td>4700400439</td>\n",
       "      <td>17</td>\n",
       "      <td>004-BF</td>\n",
       "      <td>ROBERT BOSCH - TOOLING CENTER</td>\n",
       "      <td>2.05</td>\n",
       "      <td>12.0</td>\n",
       "      <td>197.0</td>\n",
       "      <td>137.0</td>\n",
       "      <td>S20/B</td>\n",
       "      <td>0.0</td>\n",
       "      <td>1</td>\n",
       "    </tr>\n",
       "    <tr>\n",
       "      <td>216</td>\n",
       "      <td>4700400448</td>\n",
       "      <td>4</td>\n",
       "      <td>004-BF</td>\n",
       "      <td>ROBERT BOSCH - TOOLING CENTER</td>\n",
       "      <td>2.20</td>\n",
       "      <td>12.0</td>\n",
       "      <td>181.0</td>\n",
       "      <td>121.0</td>\n",
       "      <td>S20</td>\n",
       "      <td>0.0</td>\n",
       "      <td>1</td>\n",
       "    </tr>\n",
       "    <tr>\n",
       "      <td>217</td>\n",
       "      <td>4700400454</td>\n",
       "      <td>1</td>\n",
       "      <td>004-BF</td>\n",
       "      <td>ROBERT BOSCH - TOOLING CENTER</td>\n",
       "      <td>1.91</td>\n",
       "      <td>10.0</td>\n",
       "      <td>140.0</td>\n",
       "      <td>66.0</td>\n",
       "      <td>S20</td>\n",
       "      <td>0.0</td>\n",
       "      <td>1</td>\n",
       "    </tr>\n",
       "    <tr>\n",
       "      <td>218</td>\n",
       "      <td>4700400458</td>\n",
       "      <td>11</td>\n",
       "      <td>004-BF</td>\n",
       "      <td>ROBERT BOSCH - TOOLING CENTER</td>\n",
       "      <td>1.25</td>\n",
       "      <td>12.0</td>\n",
       "      <td>115.0</td>\n",
       "      <td>39.0</td>\n",
       "      <td>S20</td>\n",
       "      <td>0.0</td>\n",
       "      <td>1</td>\n",
       "    </tr>\n",
       "    <tr>\n",
       "      <td>219</td>\n",
       "      <td>4700400471</td>\n",
       "      <td>11</td>\n",
       "      <td>004-BF</td>\n",
       "      <td>ROBERT BOSCH - TOOLING CENTER</td>\n",
       "      <td>1.43</td>\n",
       "      <td>6.0</td>\n",
       "      <td>142.0</td>\n",
       "      <td>92.0</td>\n",
       "      <td>S20</td>\n",
       "      <td>0.0</td>\n",
       "      <td>1</td>\n",
       "    </tr>\n",
       "  </tbody>\n",
       "</table>\n",
       "<p>219 rows × 11 columns</p>\n",
       "</div>"
      ],
      "text/plain": [
       "     PartNumber  nQuebras  Family                             Supplier  \\\n",
       "0    4721700050         5  217-RH  3M TECHNICAL CERAMICS ZWEIGNIEDERLA   \n",
       "1    4700101394        26  001-BA                         ALLIANCE CNC   \n",
       "2    4700101395        28  001-BA                         ALLIANCE CNC   \n",
       "3    4700500778         5  005-BG                         ALLIANCE CNC   \n",
       "4    4700700155         9  007-BK       BLICKLE WERKZEUGE GMBH & CO KG   \n",
       "..          ...       ...     ...                                  ...   \n",
       "215  4700400439        17  004-BF        ROBERT BOSCH - TOOLING CENTER   \n",
       "216  4700400448         4  004-BF        ROBERT BOSCH - TOOLING CENTER   \n",
       "217  4700400454         1  004-BF        ROBERT BOSCH - TOOLING CENTER   \n",
       "218  4700400458        11  004-BF        ROBERT BOSCH - TOOLING CENTER   \n",
       "219  4700400471        11  004-BF        ROBERT BOSCH - TOOLING CENTER   \n",
       "\n",
       "     LargerDiameter  StemDiameter  TotalLength  ChannelLength MaterialClass  \\\n",
       "0              3.00           3.0         38.0            2.5  Desconhecido   \n",
       "1             10.70          12.0         92.0           50.0     K30/40-UF   \n",
       "2              9.70          10.0         92.0           50.0     K30/40-UF   \n",
       "3              4.00           6.0         58.0           17.0     K30/40-UF   \n",
       "4              6.00           6.0         66.0           25.0     K30/40-UF   \n",
       "..              ...           ...          ...            ...           ...   \n",
       "215            2.05          12.0        197.0          137.0         S20/B   \n",
       "216            2.20          12.0        181.0          121.0           S20   \n",
       "217            1.91          10.0        140.0           66.0           S20   \n",
       "218            1.25          12.0        115.0           39.0           S20   \n",
       "219            1.43           6.0        142.0           92.0           S20   \n",
       "\n",
       "     PropellerAngle  Refrigeration  \n",
       "0               0.0              0  \n",
       "1              30.0              1  \n",
       "2              30.0              1  \n",
       "3              27.0              0  \n",
       "4              15.0              1  \n",
       "..              ...            ...  \n",
       "215             0.0              1  \n",
       "216             0.0              1  \n",
       "217             0.0              1  \n",
       "218             0.0              1  \n",
       "219             0.0              1  \n",
       "\n",
       "[219 rows x 11 columns]"
      ]
     },
     "metadata": {},
     "output_type": "display_data"
    }
   ],
   "source": [
    "display(dadosB)"
   ]
  },
  {
   "cell_type": "markdown",
   "metadata": {},
   "source": [
    "### A principio era pra realizar a regressao linear mas acabei fazendo o SGD tbm para comparar"
   ]
  },
  {
   "cell_type": "markdown",
   "metadata": {},
   "source": [
    "#### Importando o regressor e definindo variáveis x e y"
   ]
  },
  {
   "cell_type": "code",
   "execution_count": 8,
   "metadata": {},
   "outputs": [],
   "source": [
    "from sklearn.linear_model import LinearRegression\n",
    "from sklearn.linear_model import SGDRegressor\n",
    "from sklearn.metrics import r2_score\n",
    "from sklearn import preprocessing"
   ]
  },
  {
   "cell_type": "code",
   "execution_count": 192,
   "metadata": {},
   "outputs": [
    {
     "data": {
      "text/plain": [
       "Index(['PartNumber', 'nQuebras', 'Family', 'Supplier', 'LargerDiameter',\n",
       "       'StemDiameter', 'TotalLength', 'ChannelLength', 'MaterialClass',\n",
       "       'PropellerAngle', 'Refrigeration'],\n",
       "      dtype='object')"
      ]
     },
     "execution_count": 192,
     "metadata": {},
     "output_type": "execute_result"
    }
   ],
   "source": [
    "dadosB.columns"
   ]
  },
  {
   "cell_type": "code",
   "execution_count": 2,
   "metadata": {},
   "outputs": [],
   "source": [
    "def calc_rss(y,predicted):\n",
    "    return float(((predicted - y) ** 2).sum())\n",
    "    \n",
    "def calc_r2(y,predicted):\n",
    "    return r2_score(predicted,y)"
   ]
  },
  {
   "cell_type": "code",
   "execution_count": 56,
   "metadata": {},
   "outputs": [],
   "source": [
    "X = dadosB.loc[:,['PartNumber', 'Family', 'Supplier', 'LargerDiameter',\n",
    "       'StemDiameter', 'TotalLength', 'ChannelLength', 'MaterialClass',\n",
    "       'PropellerAngle', 'Refrigeration']]\n",
    "\n",
    "\n",
    "y = dadosB.loc[:,['nQuebras']]"
   ]
  },
  {
   "cell_type": "markdown",
   "metadata": {},
   "source": [
    "### fazendo encoder para variaveis string"
   ]
  },
  {
   "cell_type": "code",
   "execution_count": 57,
   "metadata": {},
   "outputs": [
    {
     "name": "stdout",
     "output_type": "stream",
     "text": [
      "ok 0\n",
      "ok 1\n",
      "ok 2\n",
      "ok 3\n",
      "ok 4\n",
      "ok 5\n",
      "ok 6\n",
      "ok 7\n",
      "ok 8\n",
      "ok 9\n",
      "ok 10\n",
      "ok 11\n",
      "ok 12\n",
      "ok 13\n",
      "ok 14\n",
      "ok 15\n",
      "ok 16\n",
      "ok 17\n",
      "ok 18\n",
      "ok 19\n",
      "ok 20\n",
      "ok 21\n",
      "ok 22\n",
      "ok 23\n",
      "ok 24\n",
      "ok 25\n",
      "ok 26\n",
      "ok 27\n",
      "ok 28\n",
      "ok 29\n",
      "ok 30\n",
      "ok 31\n",
      "ok 32\n",
      "ok 33\n",
      "ok 34\n",
      "ok 35\n",
      "ok 36\n",
      "ok 37\n",
      "ok 38\n",
      "ok 39\n",
      "ok 40\n",
      "ok 41\n",
      "ok 42\n",
      "ok 43\n",
      "ok 44\n",
      "ok 45\n",
      "ok 46\n",
      "ok 48\n",
      "ok 49\n",
      "ok 50\n",
      "ok 51\n",
      "ok 52\n",
      "ok 53\n",
      "ok 54\n",
      "ok 55\n",
      "ok 56\n",
      "ok 57\n",
      "ok 58\n",
      "ok 59\n",
      "ok 60\n",
      "ok 61\n",
      "ok 62\n",
      "ok 63\n",
      "ok 64\n",
      "ok 65\n",
      "ok 66\n",
      "ok 67\n",
      "ok 68\n",
      "ok 69\n",
      "ok 70\n",
      "ok 71\n",
      "ok 72\n",
      "ok 73\n",
      "ok 74\n",
      "ok 75\n",
      "ok 76\n",
      "ok 77\n",
      "ok 78\n",
      "ok 79\n",
      "ok 80\n",
      "ok 81\n",
      "ok 82\n",
      "ok 83\n",
      "ok 85\n",
      "ok 86\n",
      "ok 87\n",
      "ok 88\n",
      "ok 89\n",
      "ok 90\n",
      "ok 91\n",
      "ok 92\n",
      "ok 93\n",
      "ok 94\n",
      "ok 95\n",
      "ok 96\n",
      "ok 97\n",
      "ok 98\n",
      "ok 99\n",
      "ok 100\n",
      "ok 101\n",
      "ok 102\n",
      "ok 103\n",
      "ok 104\n",
      "ok 105\n",
      "ok 106\n",
      "ok 107\n",
      "ok 108\n",
      "ok 109\n",
      "ok 110\n",
      "ok 111\n",
      "ok 112\n",
      "ok 113\n",
      "ok 114\n",
      "ok 115\n",
      "ok 116\n",
      "ok 117\n",
      "ok 118\n",
      "ok 119\n",
      "ok 120\n",
      "ok 121\n",
      "ok 122\n",
      "ok 123\n",
      "ok 124\n",
      "ok 125\n",
      "ok 126\n",
      "ok 127\n",
      "ok 128\n",
      "ok 129\n",
      "ok 130\n",
      "ok 131\n",
      "ok 132\n",
      "ok 133\n",
      "ok 134\n",
      "ok 135\n",
      "ok 136\n",
      "ok 137\n",
      "ok 138\n",
      "ok 139\n",
      "ok 140\n",
      "ok 141\n",
      "ok 142\n",
      "ok 143\n",
      "ok 144\n",
      "ok 145\n",
      "ok 146\n",
      "ok 147\n",
      "ok 148\n",
      "ok 149\n",
      "ok 150\n",
      "ok 151\n",
      "ok 152\n",
      "ok 153\n",
      "ok 154\n",
      "ok 155\n",
      "ok 156\n",
      "ok 157\n",
      "ok 158\n",
      "ok 159\n",
      "ok 160\n",
      "ok 161\n",
      "ok 162\n",
      "ok 163\n",
      "ok 164\n",
      "ok 165\n",
      "ok 166\n",
      "ok 167\n",
      "ok 168\n",
      "ok 169\n",
      "ok 170\n",
      "ok 171\n",
      "ok 172\n",
      "ok 173\n",
      "ok 174\n",
      "ok 175\n",
      "ok 176\n",
      "ok 177\n",
      "ok 178\n",
      "ok 179\n",
      "ok 180\n",
      "ok 181\n",
      "ok 182\n",
      "ok 183\n",
      "ok 184\n",
      "ok 185\n",
      "ok 186\n",
      "ok 187\n",
      "ok 188\n",
      "ok 189\n",
      "ok 190\n",
      "ok 191\n",
      "ok 192\n",
      "ok 193\n",
      "ok 194\n",
      "ok 195\n",
      "ok 196\n",
      "ok 197\n",
      "ok 198\n",
      "ok 199\n",
      "ok 200\n",
      "ok 201\n",
      "ok 202\n",
      "ok 203\n",
      "ok 204\n",
      "ok 205\n",
      "ok 206\n",
      "ok 207\n",
      "ok 208\n",
      "ok 209\n",
      "ok 210\n",
      "ok 211\n",
      "ok 212\n",
      "ok 213\n",
      "ok 214\n",
      "ok 215\n",
      "ok 216\n",
      "ok 217\n",
      "ok 218\n"
     ]
    },
    {
     "name": "stderr",
     "output_type": "stream",
     "text": [
      "/home/leticia/miniconda3/envs/ambi/lib/python3.7/site-packages/ipykernel_launcher.py:12: SettingWithCopyWarning: \n",
      "A value is trying to be set on a copy of a slice from a DataFrame\n",
      "\n",
      "See the caveats in the documentation: http://pandas.pydata.org/pandas-docs/stable/user_guide/indexing.html#returning-a-view-versus-a-copy\n",
      "  if sys.path[0] == '':\n"
     ]
    },
    {
     "data": {
      "text/html": [
       "<div>\n",
       "<style scoped>\n",
       "    .dataframe tbody tr th:only-of-type {\n",
       "        vertical-align: middle;\n",
       "    }\n",
       "\n",
       "    .dataframe tbody tr th {\n",
       "        vertical-align: top;\n",
       "    }\n",
       "\n",
       "    .dataframe thead th {\n",
       "        text-align: right;\n",
       "    }\n",
       "</style>\n",
       "<table border=\"1\" class=\"dataframe\">\n",
       "  <thead>\n",
       "    <tr style=\"text-align: right;\">\n",
       "      <th></th>\n",
       "      <th>nQuebras</th>\n",
       "    </tr>\n",
       "  </thead>\n",
       "  <tbody>\n",
       "    <tr>\n",
       "      <td>0</td>\n",
       "      <td>5</td>\n",
       "    </tr>\n",
       "    <tr>\n",
       "      <td>1</td>\n",
       "      <td>26</td>\n",
       "    </tr>\n",
       "    <tr>\n",
       "      <td>2</td>\n",
       "      <td>28</td>\n",
       "    </tr>\n",
       "    <tr>\n",
       "      <td>3</td>\n",
       "      <td>5</td>\n",
       "    </tr>\n",
       "    <tr>\n",
       "      <td>4</td>\n",
       "      <td>9</td>\n",
       "    </tr>\n",
       "    <tr>\n",
       "      <td>...</td>\n",
       "      <td>...</td>\n",
       "    </tr>\n",
       "    <tr>\n",
       "      <td>215</td>\n",
       "      <td>17</td>\n",
       "    </tr>\n",
       "    <tr>\n",
       "      <td>216</td>\n",
       "      <td>4</td>\n",
       "    </tr>\n",
       "    <tr>\n",
       "      <td>217</td>\n",
       "      <td>1</td>\n",
       "    </tr>\n",
       "    <tr>\n",
       "      <td>218</td>\n",
       "      <td>11</td>\n",
       "    </tr>\n",
       "    <tr>\n",
       "      <td>219</td>\n",
       "      <td>11</td>\n",
       "    </tr>\n",
       "  </tbody>\n",
       "</table>\n",
       "<p>218 rows × 1 columns</p>\n",
       "</div>"
      ],
      "text/plain": [
       "     nQuebras\n",
       "0           5\n",
       "1          26\n",
       "2          28\n",
       "3           5\n",
       "4           9\n",
       "..        ...\n",
       "215        17\n",
       "216         4\n",
       "217         1\n",
       "218        11\n",
       "219        11\n",
       "\n",
       "[218 rows x 1 columns]"
      ]
     },
     "execution_count": 57,
     "metadata": {},
     "output_type": "execute_result"
    }
   ],
   "source": [
    "# percebi que uma das linhas de material class tinha float pq o encoder nao estava funcionando.\n",
    "\n",
    "#tentando fazer um cast (nao funcionou mas descobri que o problema era na 84)\n",
    "\n",
    "\n",
    "for i in range(len(X['MaterialClass'])):\n",
    "    try:\n",
    "        if isinstance(X['MaterialClass'][i],str):\n",
    "\n",
    "            print('ok', i)\n",
    "        else:\n",
    "            X['MaterialClass'][i]=str(X['MaterialClass'][i])\n",
    "            \n",
    "    except:\n",
    "        pass\n",
    "#         print(X['MaterialClass'][i])\n",
    "\n",
    "#         print(type(X['MaterialClass'][i]))\n",
    "    \n",
    "\n",
    "X.drop(X.index[84])\n",
    "y.drop(y.index[84])"
   ]
  },
  {
   "cell_type": "code",
   "execution_count": 58,
   "metadata": {},
   "outputs": [],
   "source": [
    "le = preprocessing.LabelEncoder()\n",
    "\n",
    "    \n",
    "X['Family'] = le.fit_transform(X['Family'])\n",
    "X['MaterialClass'] = le.fit_transform(X['MaterialClass'])\n",
    "X['Supplier'] = le.fit_transform(X['Supplier'])\n",
    "\n",
    "\n"
   ]
  },
  {
   "cell_type": "markdown",
   "metadata": {},
   "source": [
    "### normalizando pra sgd"
   ]
  },
  {
   "cell_type": "code",
   "execution_count": 63,
   "metadata": {},
   "outputs": [
    {
     "name": "stderr",
     "output_type": "stream",
     "text": [
      "/home/leticia/miniconda3/envs/ambi/lib/python3.7/site-packages/sklearn/utils/validation.py:724: DataConversionWarning: A column-vector y was passed when a 1d array was expected. Please change the shape of y to (n_samples, ), for example using ravel().\n",
      "  y = column_or_1d(y, warn=True)\n"
     ]
    }
   ],
   "source": [
    "from sklearn.preprocessing import MinMaxScaler\n",
    "\n",
    "# REGRESSAO LINEAR\n",
    "\n",
    "X_unico = np.array(X['TotalLength']).reshape(-1, 1)\n",
    "\n",
    "reg = LinearRegression().fit(X_unico,y)\n",
    "\n",
    "## SGD - NORMALIZADORES\n",
    "\n",
    "colunas = X.columns\n",
    "scaler_y = MinMaxScaler()\n",
    "scaler.fit_transform\n",
    "y_ = scaler_y.fit_transform(y)\n",
    "scaler_x = MinMaxScaler()\n",
    "X_ = pd.DataFrame(scaler_x.fit_transform(X), columns = colunas) \n",
    "\n",
    "regg = SGDRegressor().fit(X_,y_)"
   ]
  },
  {
   "cell_type": "markdown",
   "metadata": {},
   "source": [
    "### Usar modelo reg para reg linear, regg para sgd "
   ]
  },
  {
   "cell_type": "code",
   "execution_count": 64,
   "metadata": {},
   "outputs": [
    {
     "data": {
      "image/png": "[encoded data removed]",
      "text/plain": [
       "<Figure size 432x288 with 1 Axes>"
      ]
     },
     "metadata": {
      "needs_background": "light"
     },
     "output_type": "display_data"
    },
    {
     "data": {
      "image/png": "[encoded data removed]",
      "text/plain": [
       "<Figure size 432x288 with 1 Axes>"
      ]
     },
     "metadata": {
      "needs_background": "light"
     },
     "output_type": "display_data"
    }
   ],
   "source": [
    "import numpy as np\n",
    "\n",
    "\n",
    "Y_pred = reg.predict(X_unico)\n",
    "Y_pred_ = regg.predict(X_)\n",
    "\n",
    "\n",
    "# REG LINEAR\n",
    "\n",
    "plt.scatter(X_unico, y)\n",
    "plt.plot(X_unico, Y_pred, color = 'red')\n",
    "plt.show()\n",
    "\n",
    "# REGRESSOR GRAD DESC\n",
    "\n",
    "# NORMALIZACAO INVERSE PRA PLOTAR!!\n",
    "\n",
    "X_  = pd.DataFrame(scaler_x.inverse_transform(X_), columns = colunas)\n",
    "y_ = scaler_y.inverse_transform(y_)\n",
    "Y_pred_ = scaler_y.inverse_transform(Y_pred_.reshape(-1, 1))\n",
    "\n",
    "\n",
    "#display(X_)\n",
    "\n",
    "#figg = plt.subplot((2,2,2))\n",
    "plt.scatter(X_['TotalLength'], y_)\n",
    "plt.scatter(X_['TotalLength'], Y_pred_, color = 'red')\n",
    "\n",
    "plt.show()"
   ]
  },
  {
   "cell_type": "code",
   "execution_count": 65,
   "metadata": {},
   "outputs": [
    {
     "name": "stdout",
     "output_type": "stream",
     "text": [
      "r2 -34.63305925889424 rss 1497314.8323306749 MULTIVAR\n"
     ]
    }
   ],
   "source": [
    "rss_ = calc_rss(y_,Y_pred_)\n",
    "r2_ = calc_r2(y_,Y_pred_)\n",
    "\n",
    "print('r2', r2_, 'rss', rss_, 'MULTIVAR')"
   ]
  },
  {
   "cell_type": "code",
   "execution_count": 66,
   "metadata": {},
   "outputs": [
    {
     "name": "stdout",
     "output_type": "stream",
     "text": [
      "r2 -19.86189450237191 rss 1505673.241366632 LINEAR\n"
     ]
    }
   ],
   "source": [
    "rss = calc_rss(y,reg.predict(X_unico))\n",
    "r2 = calc_r2(y,reg.predict(X_unico))\n",
    "\n",
    "print('r2', r2, 'rss', rss, 'LINEAR')"
   ]
  },
  {
   "cell_type": "markdown",
   "metadata": {},
   "source": [
    "## Sugestoes para melhorar o modelo:\n",
    "avaliar quebras com e sem a presenca do fluido refrigerante\n",
    "\n",
    "avaliar pelo tipo de material"
   ]
  },
  {
   "cell_type": "markdown",
   "metadata": {},
   "source": [
    "### com fluido de refrig"
   ]
  },
  {
   "cell_type": "code",
   "execution_count": 81,
   "metadata": {},
   "outputs": [],
   "source": [
    "dadosB2 = dadosB.loc[dadosB['Refrigeration']==1]\n",
    "\n",
    "X = dadosB2.loc[:,['PartNumber', 'Family', 'Supplier', 'LargerDiameter',\n",
    "       'StemDiameter', 'TotalLength', 'ChannelLength', 'MaterialClass',\n",
    "       'PropellerAngle', 'Refrigeration']]\n",
    "\n",
    "#X.drop(X.index[84])\n",
    "\n",
    "le = preprocessing.LabelEncoder()\n",
    "    \n",
    "X['Family'] = le.fit_transform(X['Family'])\n",
    "X['MaterialClass'] = le.fit_transform(X['MaterialClass'])\n",
    "X['Supplier'] = le.fit_transform(X['Supplier'])\n",
    "\n",
    "y = dadosB2['nQuebras']"
   ]
  },
  {
   "cell_type": "code",
   "execution_count": null,
   "metadata": {},
   "outputs": [],
   "source": [
    "## Definir a coluna pra regressao com um atributo soh"
   ]
  },
  {
   "cell_type": "code",
   "execution_count": 82,
   "metadata": {},
   "outputs": [
    {
     "name": "stderr",
     "output_type": "stream",
     "text": [
      "/home/leticia/miniconda3/envs/ambi/lib/python3.7/site-packages/sklearn/utils/validation.py:724: DataConversionWarning: A column-vector y was passed when a 1d array was expected. Please change the shape of y to (n_samples, ), for example using ravel().\n",
      "  y = column_or_1d(y, warn=True)\n"
     ]
    }
   ],
   "source": [
    "from sklearn.preprocessing import MinMaxScaler\n",
    "\n",
    "X_unico = np.array(X['TotalLength']).reshape(-1, 1)\n",
    "\n",
    "reg = LinearRegression().fit(X_unico,y)\n",
    "\n",
    "colunas = X.columns\n",
    "scaler_y = MinMaxScaler()\n",
    "scaler.fit_transform\n",
    "y_ = scaler_y.fit_transform(np.array(y).reshape(-1, 1))\n",
    "\n",
    "scaler_x = MinMaxScaler()\n",
    "X_ = pd.DataFrame(scaler_x.fit_transform(X), columns = colunas) \n",
    "regg = SGDRegressor().fit(X_,y_)"
   ]
  },
  {
   "cell_type": "code",
   "execution_count": 83,
   "metadata": {},
   "outputs": [
    {
     "data": {
      "image/png": "[encoded data removed]",
      "text/plain": [
       "<Figure size 432x288 with 1 Axes>"
      ]
     },
     "metadata": {
      "needs_background": "light"
     },
     "output_type": "display_data"
    },
    {
     "data": {
      "image/png": "[encoded data removed]",
      "text/plain": [
       "<Figure size 432x288 with 1 Axes>"
      ]
     },
     "metadata": {
      "needs_background": "light"
     },
     "output_type": "display_data"
    }
   ],
   "source": [
    "Y_pred = reg.predict(X_unico)\n",
    "Y_pred_ = regg.predict(X_)\n",
    "\n",
    "\n",
    "fig = plt.scatter(X_unico, y)\n",
    "fig2 = plt.plot(X_unico, Y_pred, color = 'red')\n",
    "plt.show()\n",
    "\n",
    "# NORMALIZACAO INVERSE PRA PLOTAR!!\n",
    "\n",
    "X_  = pd.DataFrame(scaler_x.inverse_transform(X_), columns = colunas)\n",
    "y_ = scaler_y.inverse_transform(y_)\n",
    "Y_pred_ = scaler_y.inverse_transform(Y_pred_.reshape(-1, 1))\n",
    "\n",
    "\n",
    "figg = plt.scatter(X_['TotalLength'], y_)\n",
    "fig3 = plt.scatter(X_['TotalLength'], Y_pred_, color = 'red')\n",
    "\n",
    "plt.show()"
   ]
  },
  {
   "cell_type": "code",
   "execution_count": 84,
   "metadata": {},
   "outputs": [
    {
     "name": "stdout",
     "output_type": "stream",
     "text": [
      "r2 -127.11488685174331 rss 1497314.8323306749 MULTIVAR\n"
     ]
    }
   ],
   "source": [
    "r2_ = calc_r2(y_,Y_pred_)\n",
    "rss = calc_rss(y_,Y_pred_)\n",
    "\n",
    "print('r2', r2_, 'rss', rss_, 'MULTIVAR')"
   ]
  },
  {
   "cell_type": "code",
   "execution_count": 85,
   "metadata": {},
   "outputs": [
    {
     "name": "stdout",
     "output_type": "stream",
     "text": [
      "r2 -34.899999660711615 rss 1291557.6645922083 LINEAR\n"
     ]
    }
   ],
   "source": [
    "rss = calc_rss(y,reg.predict(X_unico))\n",
    "r2 = calc_r2(y,reg.predict(X_unico))\n",
    "\n",
    "print('r2', r2, 'rss', rss, 'LINEAR')"
   ]
  },
  {
   "cell_type": "markdown",
   "metadata": {},
   "source": [
    "### Com unico material, s20"
   ]
  },
  {
   "cell_type": "code",
   "execution_count": 91,
   "metadata": {},
   "outputs": [],
   "source": [
    "dadosB3 = dadosB.loc[dadosB['MaterialClass']=='S20']\n",
    "\n",
    "X = dadosB3.loc[:,['PartNumber', 'Family', 'Supplier', 'LargerDiameter',\n",
    "       'StemDiameter', 'TotalLength', 'ChannelLength', 'MaterialClass',\n",
    "       'PropellerAngle', 'Refrigeration']]\n",
    "\n",
    "\n",
    "le = preprocessing.LabelEncoder()\n",
    "    \n",
    "X['Family'] = le.fit_transform(X['Family'])\n",
    "X['MaterialClass'] = le.fit_transform(X['MaterialClass'])\n",
    "X['Supplier'] = le.fit_transform(X['Supplier'])\n",
    "\n",
    "y = dadosB3['nQuebras']"
   ]
  },
  {
   "cell_type": "code",
   "execution_count": 92,
   "metadata": {},
   "outputs": [
    {
     "name": "stderr",
     "output_type": "stream",
     "text": [
      "/home/leticia/miniconda3/envs/ambi/lib/python3.7/site-packages/sklearn/utils/validation.py:724: DataConversionWarning: A column-vector y was passed when a 1d array was expected. Please change the shape of y to (n_samples, ), for example using ravel().\n",
      "  y = column_or_1d(y, warn=True)\n"
     ]
    }
   ],
   "source": [
    "from sklearn.preprocessing import MinMaxScaler\n",
    "\n",
    "X_unico = np.array(X['TotalLength']).reshape(-1, 1)\n",
    "\n",
    "reg = LinearRegression().fit(X_unico,y)\n",
    "\n",
    "colunas = X.columns\n",
    "scaler_y = MinMaxScaler()\n",
    "scaler.fit_transform\n",
    "y_ = scaler_y.fit_transform(np.array(y).reshape(-1, 1))\n",
    "\n",
    "scaler_x = MinMaxScaler()\n",
    "X_ = pd.DataFrame(scaler_x.fit_transform(X), columns = colunas) \n",
    "regg = SGDRegressor().fit(X_,y_)"
   ]
  },
  {
   "cell_type": "code",
   "execution_count": 93,
   "metadata": {},
   "outputs": [
    {
     "data": {
      "image/png": "[encoded data removed]",
      "text/plain": [
       "<Figure size 432x288 with 1 Axes>"
      ]
     },
     "metadata": {
      "needs_background": "light"
     },
     "output_type": "display_data"
    },
    {
     "data": {
      "image/png": "[encoded data removed]",
      "text/plain": [
       "<Figure size 432x288 with 1 Axes>"
      ]
     },
     "metadata": {
      "needs_background": "light"
     },
     "output_type": "display_data"
    }
   ],
   "source": [
    "Y_pred = reg.predict(X_unico)\n",
    "Y_pred_ = regg.predict(X_)\n",
    "\n",
    "plt.scatter(X_unico, y)\n",
    "plt.plot(X_unico, Y_pred, color = 'red')\n",
    "plt.show()\n",
    "\n",
    "# NORMALIZACAO INVERSE PRA PLOTAR!!\n",
    "\n",
    "X_  = pd.DataFrame(scaler_x.inverse_transform(X_), columns = colunas)\n",
    "y_ = scaler_y.inverse_transform(y_)\n",
    "Y_pred_ = scaler_y.inverse_transform(Y_pred_.reshape(-1, 1))\n",
    "\n",
    "\n",
    "figg = plt.scatter(X_['TotalLength'], y_)\n",
    "fig3 = plt.scatter(X_['TotalLength'], Y_pred_, color = 'red')\n",
    "\n",
    "plt.show()"
   ]
  },
  {
   "cell_type": "code",
   "execution_count": 94,
   "metadata": {},
   "outputs": [
    {
     "name": "stdout",
     "output_type": "stream",
     "text": [
      "r2 -35.645159407259825 rss 75158.6018795397 MULTIVAR\n",
      "r2 -4.910632552810284 rss 68195.03854981821 LINEAR\n"
     ]
    }
   ],
   "source": [
    "rss_ = calc_rss(y_,Y_pred_)\n",
    "r2_ = calc_r2(y_,Y_pred_)\n",
    "\n",
    "print('r2', r2_, 'rss', rss_, 'MULTIVAR')\n",
    "\n",
    "rss = calc_rss(y,reg.predict(X_unico))\n",
    "r2 = calc_r2(y,reg.predict(X_unico))\n",
    "\n",
    "print('r2', r2, 'rss', rss, 'LINEAR')"
   ]
  },
  {
   "cell_type": "markdown",
   "metadata": {},
   "source": [
    "### Em resumo os resultados nao ficaram muito bons e fazer com o SGD nao melhorou mto tbm"
   ]
  }
 ],
 "metadata": {
  "kernelspec": {
   "display_name": "Python [conda env:ambi] *",
   "language": "python",
   "name": "conda-env-ambi-py"
  },
  "language_info": {
   "codemirror_mode": {
    "name": "ipython",
    "version": 3
   },
   "file_extension": ".py",
   "mimetype": "text/x-python",
   "name": "python",
   "nbconvert_exporter": "python",
   "pygments_lexer": "ipython3",
   "version": "3.7.4"
  }
 },
 "nbformat": 4,
 "nbformat_minor": 2
}
